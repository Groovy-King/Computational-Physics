{
 "cells": [
  {
   "cell_type": "code",
   "execution_count": null,
   "metadata": {},
   "outputs": [],
   "source": [
    "x = [2, 3, 4, 5]\n",
    "x[:4]"
   ]
  },
  {
   "cell_type": "code",
   "execution_count": null,
   "metadata": {},
   "outputs": [],
   "source": [
    "import numpy as np\n",
    "\n",
    "np.linspace(0, 1, 21)"
   ]
  },
  {
   "cell_type": "code",
   "execution_count": null,
   "metadata": {},
   "outputs": [],
   "source": [
    "def romberg (a, b, eps, nmax , func ):\n",
    "    h = np. zeros ( nmax )\n",
    "    for i in range (0, nmax ):\n",
    "        h[i] = (b - a )/(2.** i)\n",
    "    r = np. zeros (( nmax , nmax ))\n",
    "    r[0 ,0] = (b - a)*( func (a) + func (b ))/2.\n",
    "    for j in range (1, nmax ):\n",
    "        subtotal = 0\n",
    "        for i in range (0 ,2**(j -1)):\n",
    "            subtotal = subtotal + func (a +(2* i +1)* h[j])\n",
    "        r[j ,0] = r[j -1 ,0]/2. + h[j]* subtotal\n",
    "        for k in range (1,j +1):\n",
    "            r[j,k] = (4**( k)*r[j,k -1] -r[j -1,k -1])/(4**( k) -1)\n",
    "    return r"
   ]
  },
  {
   "cell_type": "code",
   "execution_count": null,
   "metadata": {},
   "outputs": [],
   "source": [
    "from scipy.constants import G\n",
    "G"
   ]
  },
  {
   "cell_type": "code",
   "execution_count": null,
   "metadata": {},
   "outputs": [],
   "source": [
    "import sympy as smp\n",
    "x = smp.symbols('x', real = True)\n",
    "smp.N(smp.solve(smp.diff(x**3 / (smp.exp(x) - 1), x), x)[0])"
   ]
  },
  {
   "cell_type": "code",
   "execution_count": null,
   "metadata": {},
   "outputs": [],
   "source": [
    "from scipy.constants import c, sigma, hbar\n",
    "hbar"
   ]
  },
  {
   "cell_type": "code",
   "execution_count": null,
   "metadata": {},
   "outputs": [],
   "source": [
    "isinstance(2, int)"
   ]
  },
  {
   "cell_type": "code",
   "execution_count": null,
   "metadata": {},
   "outputs": [],
   "source": [
    "from math import factorial\n",
    "\n",
    "type(factorial(30))"
   ]
  },
  {
   "cell_type": "code",
   "execution_count": null,
   "metadata": {},
   "outputs": [],
   "source": [
    "import numpy as np\n",
    "import matplotlib.pyplot as plt\n",
    "\n",
    "def f(x, y, z):\n",
    "    return 1 / (x**2 + y**2 + z**2)**(3/2)\n",
    "\n",
    "x = np.linspace(-5, 5, 100)\n",
    "y = np.copy(x)\n",
    "\n",
    "X, Y = np.meshgrid(x, y)\n",
    "\n",
    "fig = plt.figure()\n",
    "\n",
    "ax = fig.add_subplot(2, 2, 1, projection = '3d')\n",
    "ax.plot_surface(X, Y, f(X, Y, 0))\n",
    "\n",
    "ax = fig.add_subplot(2, 2, 2, projection = '3d')\n",
    "ax.plot_surface(X, Y, f(X, Y, 1))\n",
    "\n",
    "ax = fig.add_subplot(2, 2, 3, projection = '3d')\n",
    "ax.plot_surface(X, Y, f(X, Y, 3))\n",
    "\n",
    "ax = fig.add_subplot(2, 2, 4, projection = '3d')\n",
    "ax.plot_surface(X, Y, f(X, Y, 5))\n",
    "\n",
    "plt.show()"
   ]
  },
  {
   "cell_type": "code",
   "execution_count": null,
   "metadata": {},
   "outputs": [],
   "source": [
    "import sympy as smp\n",
    "\n",
    "x, a = smp.symbols('x a')\n",
    "f = x**(a - 1) * smp.exp(-x)\n",
    "\n",
    "smp.diff(f, x, 2).subs(x, a - 1)"
   ]
  },
  {
   "cell_type": "code",
   "execution_count": null,
   "metadata": {},
   "outputs": [],
   "source": [
    "import numpy as np\n",
    "import matplotlib.pyplot as plt\n",
    "import seaborn as sns\n",
    "sns.set_style('darkgrid')\n",
    "\n",
    "x = np.linspace(0, 2*np.pi, 1000)\n",
    "y = np.sin(x)**2\n",
    "\n",
    "plt.plot(x, y)\n",
    "plt.axhline(linewidth = 1, color='k')\n",
    "plt.axvline(linewidth = 1, color='k')\n",
    "plt.xlabel(\"u\")\n",
    "plt.ylabel(\"$\\sin^2(u)$\")\n",
    "plt.xticks(np.linspace(0, 2*np.pi, 5), labels = ['0', r'$\\frac{\\pi}{2}$', r'$\\pi$', r'$\\frac{3\\pi}{2}$', r'$2\\pi$'])\n",
    "plt.yticks(np.linspace(0, 1, 6))\n",
    "plt.show()"
   ]
  },
  {
   "cell_type": "code",
   "execution_count": null,
   "metadata": {},
   "outputs": [],
   "source": [
    "import cmath as cm\n",
    "\n",
    "abs(complex(0, 1))"
   ]
  },
  {
   "cell_type": "code",
   "execution_count": null,
   "metadata": {},
   "outputs": [],
   "source": [
    "12/0.8"
   ]
  },
  {
   "cell_type": "code",
   "execution_count": null,
   "metadata": {},
   "outputs": [],
   "source": [
    "import numpy as np\n",
    "\n",
    "def q(u):\n",
    "    return np.piecewise(u, [u < -45, u >= -45, u >= -35, u >= 25, u >= 45], [0, 1, 0, 1, 0])\n",
    "\n",
    "q(40)"
   ]
  },
  {
   "cell_type": "code",
   "execution_count": null,
   "metadata": {},
   "outputs": [],
   "source": [
    "x = [1, 2, 3, 4]\n",
    "x[1: 3]"
   ]
  },
  {
   "cell_type": "code",
   "execution_count": null,
   "metadata": {},
   "outputs": [],
   "source": [
    "import numpy as np\n",
    "\n",
    "n = 10\n",
    "Ex = np.zeros((n, n))\n",
    "Ex[1:9]"
   ]
  },
  {
   "cell_type": "code",
   "execution_count": 1,
   "metadata": {},
   "outputs": [
    {
     "data": {
      "text/plain": [
       "array([], dtype=int32)"
      ]
     },
     "execution_count": 1,
     "metadata": {},
     "output_type": "execute_result"
    }
   ],
   "source": [
    "import numpy as np\n",
    "np.arange(1, 1)"
   ]
  }
 ],
 "metadata": {
  "kernelspec": {
   "display_name": "Python 3",
   "language": "python",
   "name": "python3"
  },
  "language_info": {
   "codemirror_mode": {
    "name": "ipython",
    "version": 3
   },
   "file_extension": ".py",
   "mimetype": "text/x-python",
   "name": "python",
   "nbconvert_exporter": "python",
   "pygments_lexer": "ipython3",
   "version": "3.9.7 (tags/v3.9.7:1016ef3, Aug 30 2021, 20:19:38) [MSC v.1929 64 bit (AMD64)]"
  },
  "orig_nbformat": 4,
  "vscode": {
   "interpreter": {
    "hash": "0fdb2f0648d71c0b8c5bf2055cf03b1c5e1a84a9ef4c9fee9ec7c780abd498eb"
   }
  }
 },
 "nbformat": 4,
 "nbformat_minor": 2
}
