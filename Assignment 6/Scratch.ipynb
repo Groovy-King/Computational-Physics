{
 "cells": [
  {
   "cell_type": "code",
   "execution_count": null,
   "metadata": {},
   "outputs": [],
   "source": [
    "f = lambda t: t[0]\n",
    "\n",
    "f([1])"
   ]
  },
  {
   "cell_type": "code",
   "execution_count": null,
   "metadata": {},
   "outputs": [],
   "source": [
    "import numpy as np\n",
    "import matplotlib.pyplot as plt\n",
    "import seaborn as sns\n",
    "sns.set_style('darkgrid')\n",
    "import sys\n",
    "sys.path.insert(0, '.')\n",
    "\n",
    "from Import_Modules.Runge_Kutta import Runge_Kutta_multi_var\n",
    "\n",
    "\"\"\"\n",
    "    The derivation of the expressions given in Part (a) is attached in the figures\n",
    "    'Part (a) Derivation.png' and 'Part (a) Derivation Continued.png', saved in this folder. \n",
    "    We use these expressions in our program below.\n",
    "\"\"\"\n",
    "\n",
    "# Defning the relevant parameters\n",
    "G = 1 # Specified units\n",
    "L = 2\n",
    "M = 10\n",
    "\n",
    "# Let the list v represent [x, dxdt, y, dydt]\n",
    "# We define the derivatives of each of these quantities below\n",
    "def x_dot(t, v):\n",
    "    return v[1] # x_dot is the same as dxdt\n",
    "\n",
    "def x_double_dot(t, v): # Using result from part (a)\n",
    "    return - G*M*v[0] / ((v[0]**2 + v[2]**2) * np.sqrt(v[0]**2 + v[2]**2 + L**2/4))\n",
    "\n",
    "def y_dot(t, v):\n",
    "    return v[3] # y_dot is the same as dydt\n",
    "\n",
    "def y_double_dot(t, v): # Using result from part (a)\n",
    "    return - G*M*v[2] / ((v[0]**2 + v[2]**2) * np.sqrt(v[0]**2 + v[2]**2 + L**2/4))\n",
    "\n",
    "time, solution = Runge_Kutta_multi_var([x_dot, x_double_dot, y_dot, y_double_dot], x0 = 0, y0 = np.array([1, 0, 0, 1]), x_min = 0, x_max = 10, h = 0.01)\n"
   ]
  },
  {
   "cell_type": "code",
   "execution_count": null,
   "metadata": {},
   "outputs": [],
   "source": [
    "points = np.array([solution[0], solution[2]]).T.reshape(-1, 7, 2)\n",
    "points"
   ]
  },
  {
   "cell_type": "code",
   "execution_count": 18,
   "metadata": {},
   "outputs": [
    {
     "data": {
      "text/plain": [
       "array([0, 1, 2, 3])"
      ]
     },
     "execution_count": 18,
     "metadata": {},
     "output_type": "execute_result"
    }
   ],
   "source": [
    "np.arange(4)"
   ]
  },
  {
   "cell_type": "code",
   "execution_count": 27,
   "metadata": {},
   "outputs": [],
   "source": [
    "import numpy as np\n",
    "import matplotlib.pyplot as plt\n",
    "import matplotlib as mpl\n",
    "from matplotlib import cm\n",
    "import seaborn as sns\n",
    "sns.set_style('darkgrid')\n",
    "import sys\n",
    "sys.path.insert(0, '.')\n",
    "\n",
    "from Import_Modules.Runge_Kutta import Runge_Kutta_multi_var\n",
    "\n",
    "k = 6 # Given units\n",
    "m = 1 # Given units\n",
    "\n",
    "def First_order_ODEs(F):\n",
    "    n = len(F)\n",
    "    # Let the list v represent [x1, x2, ... xn, dx1dt, dx2dt, ... dxndt]\n",
    "    # We convert the given system to system of 2n First order ODEs below\n",
    "    \n",
    "    f = []\n",
    "    for i in range(n):\n",
    "        def g(t, v):\n",
    "            # Derivative of xi is dxidt, which is at position i+n\n",
    "            return v[i + n]\n",
    "        f.append(g)\n",
    "        \n",
    "    # Defining the x double dots\n",
    "    # Since the accelerations of the first and last particle do not follow the general equation,\n",
    "    # we add these separately\n",
    "    def g(t, v):\n",
    "        return k*(v[1] - v[0])/m + F[0](t, v)/m\n",
    "    f.append(g)\n",
    "        \n",
    "    # We now append the accelerations of particles 2 to n-1\n",
    "    for i in range(1, n - 1):\n",
    "        def g(t, v):\n",
    "            return k*(v[i + 1] + v[i - 1] - 2*v[i])/m + F[i](t, v)/m\n",
    "        f.append(g)\n",
    "    \n",
    "    # Finally, we add the acceleration of the last sparticle\n",
    "    def g(t, v):\n",
    "        return k*(v[n - 2] - v[n - 1])/m + F[-1](t, v)/m\n",
    "    f.append(g)        \n",
    "    \n",
    "    for j in range(2*n):\n",
    "        print(f[j] (0, np.arange(2*n)))\n",
    "    \n",
    "    return f"
   ]
  },
  {
   "cell_type": "code",
   "execution_count": 28,
   "metadata": {},
   "outputs": [],
   "source": [
    "N = 2\n",
    "omega = 2\n",
    "F = []\n",
    "\n",
    "# We now define the driving forces\n",
    "# We have a non-zero driving force on the first particle\n",
    "def f(t, v):\n",
    "    return np.cos(omega * t)\n",
    "F.append(f)\n",
    "\n",
    "for i in range(1, N):\n",
    "    def f(t, v):\n",
    "        return 0\n",
    "    F.append(f)\n",
    "    "
   ]
  },
  {
   "cell_type": "code",
   "execution_count": 29,
   "metadata": {},
   "outputs": [
    {
     "name": "stdout",
     "output_type": "stream",
     "text": [
      "3\n",
      "3\n",
      "7.0\n",
      "-6.0\n"
     ]
    },
    {
     "data": {
      "text/plain": [
       "[<function __main__.First_order_ODEs.<locals>.g(t, v)>,\n",
       " <function __main__.First_order_ODEs.<locals>.g(t, v)>,\n",
       " <function __main__.First_order_ODEs.<locals>.g(t, v)>,\n",
       " <function __main__.First_order_ODEs.<locals>.g(t, v)>]"
      ]
     },
     "execution_count": 29,
     "metadata": {},
     "output_type": "execute_result"
    }
   ],
   "source": [
    "First_order_ODEs(F)"
   ]
  },
  {
   "cell_type": "code",
   "execution_count": 49,
   "metadata": {},
   "outputs": [
    {
     "data": {
      "text/plain": [
       "[0, 0, 0]"
      ]
     },
     "execution_count": 49,
     "metadata": {},
     "output_type": "execute_result"
    }
   ],
   "source": [
    "A = [0, 0, 0, 0]\n",
    "A[:-1]"
   ]
  },
  {
   "cell_type": "code",
   "execution_count": 51,
   "metadata": {},
   "outputs": [
    {
     "data": {
      "text/plain": [
       "array([[0],\n",
       "       [0],\n",
       "       [0],\n",
       "       [0]])"
      ]
     },
     "execution_count": 51,
     "metadata": {},
     "output_type": "execute_result"
    }
   ],
   "source": [
    "A = np.array(A)\n",
    "A.reshape(4, 1)"
   ]
  },
  {
   "cell_type": "code",
   "execution_count": 70,
   "metadata": {},
   "outputs": [
    {
     "data": {
      "text/plain": [
       "6.646816018565566e-05"
      ]
     },
     "execution_count": 70,
     "metadata": {},
     "output_type": "execute_result"
    }
   ],
   "source": [
    "from astropy.constants import M_sun, G\n",
    "\n",
    "G = G.to('km3 / (kg year2)')\n",
    "G.value"
   ]
  },
  {
   "cell_type": "code",
   "execution_count": 66,
   "metadata": {},
   "outputs": [],
   "source": [
    "from sympy.physics.units import meter, kilometer, convert_to\n"
   ]
  },
  {
   "cell_type": "code",
   "execution_count": 68,
   "metadata": {},
   "outputs": [
    {
     "data": {
      "text/latex": [
       "$\\displaystyle \\frac{\\text{km}}{2}$"
      ],
      "text/plain": [
       "kilometer/2"
      ]
     },
     "execution_count": 68,
     "metadata": {},
     "output_type": "execute_result"
    }
   ],
   "source": [
    "x = 500 * meter\n",
    "y = convert_to(x, kilometer)\n"
   ]
  },
  {
   "cell_type": "code",
   "execution_count": 69,
   "metadata": {},
   "outputs": [
    {
     "data": {
      "text/plain": [
       "1.988409870698051e+30"
      ]
     },
     "execution_count": 69,
     "metadata": {},
     "output_type": "execute_result"
    }
   ],
   "source": [
    "from astropy.constants import M_sun, G\n",
    "\n",
    "G = G.to('km3 / (kg s2)').value\n",
    "M_sun.value"
   ]
  },
  {
   "cell_type": "code",
   "execution_count": 2,
   "metadata": {},
   "outputs": [
    {
     "data": {
      "text/plain": [
       "690.1070675833544"
      ]
     },
     "execution_count": 2,
     "metadata": {},
     "output_type": "execute_result"
    }
   ],
   "source": [
    "138.02141351667086 * 5"
   ]
  }
 ],
 "metadata": {
  "kernelspec": {
   "display_name": "Python 3",
   "language": "python",
   "name": "python3"
  },
  "language_info": {
   "codemirror_mode": {
    "name": "ipython",
    "version": 3
   },
   "file_extension": ".py",
   "mimetype": "text/x-python",
   "name": "python",
   "nbconvert_exporter": "python",
   "pygments_lexer": "ipython3",
   "version": "3.9.7"
  },
  "orig_nbformat": 4
 },
 "nbformat": 4,
 "nbformat_minor": 2
}
